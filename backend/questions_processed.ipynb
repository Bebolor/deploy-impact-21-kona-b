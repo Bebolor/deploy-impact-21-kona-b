{
 "cells": [
  {
   "cell_type": "code",
   "execution_count": 1,
   "id": "close-wilderness",
   "metadata": {},
   "outputs": [],
   "source": [
    "import pandas as pd\n",
    "import json"
   ]
  },
  {
   "cell_type": "code",
   "execution_count": 6,
   "id": "satisfied-reputation",
   "metadata": {},
   "outputs": [
    {
     "name": "stdout",
     "output_type": "stream",
     "text": [
      "{'0': {'question': 'Age Group', 'options': 'Child,Youth,Adult, Skip', 'format': 'multi_select'}, '1': {'question': 'Organization Availability', 'options': 'Now, Any', 'format': 'radio_buttons'}, '2': {'question': 'Target Group', 'options': 'Health Worker, Children, Entrepreneurs', 'format': 'multi_select'}, '3': {'question': 'Gender', 'options': 'Male, Female, Other', 'format': 'radio_buttons'}, '4': {'question': 'Region', 'options': 'Dakar, Saint-Louis, Any', 'format': 'multi_select'}}\n"
     ]
    }
   ],
   "source": [
    "df = pd.read_csv('Quiz Questions.csv')\n",
    "df = df.astype(str)\n",
    "js = df.to_json(orient='index')\n",
    "res = json.loads(js)\n",
    "print(res)"
   ]
  }
 ],
 "metadata": {
  "kernelspec": {
   "display_name": "Python 3",
   "language": "python",
   "name": "python3"
  },
  "language_info": {
   "codemirror_mode": {
    "name": "ipython",
    "version": 3
   },
   "file_extension": ".py",
   "mimetype": "text/x-python",
   "name": "python",
   "nbconvert_exporter": "python",
   "pygments_lexer": "ipython3",
   "version": "3.8.10"
  }
 },
 "nbformat": 4,
 "nbformat_minor": 5
}
