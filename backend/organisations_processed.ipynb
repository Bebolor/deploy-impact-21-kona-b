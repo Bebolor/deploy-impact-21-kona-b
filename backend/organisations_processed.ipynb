{
 "cells": [
  {
   "cell_type": "code",
   "execution_count": 82,
   "id": "binding-scholarship",
   "metadata": {},
   "outputs": [],
   "source": [
    "import pandas as pd\n",
    "import json\n",
    "import ast\n",
    "import numpy as np"
   ]
  },
  {
   "cell_type": "code",
   "execution_count": 98,
   "id": "accepted-binary",
   "metadata": {
    "scrolled": true
   },
   "outputs": [
    {
     "data": {
      "text/plain": [
       "['1', '2']"
      ]
     },
     "execution_count": 98,
     "metadata": {},
     "output_type": "execute_result"
    }
   ],
   "source": [
    "df = pd.read_csv('Organisations in Senegal (data to display).csv')\n",
    "df = df.astype(str)\n",
    "# df = df[['Name of Organisation','Region','Can individuals contact them?']]\n",
    "# df.rename(columns={'Name of Organisation': 'name','Region': 'region', 'Can individuals contact them?': 'contactable'}, inplace=True)\n",
    "# df[\"id\"] = 1+np.array(range(len(df)))\n",
    "# df[\"test\"] = 5\n",
    "# df.to_csv('organisations dataset.csv', sep=',', index=False)\n",
    "# filters = {\"Region\":\"Dakar\",\"Can individuals contact them?\":\"True\"}\n",
    "# for key, value in filters.items():\n",
    "#     df = df.loc[df[key] == value]\n",
    "# df = df[['Name of Organisation']]\n",
    "# js = df.to_json(orient = 'index')\n",
    "# js = ast.literal_eval(js)\n",
    "\n",
    "# res = []\n",
    "# for i in js:\n",
    "# print(i)\n",
    "# for key, value in js:\n",
    "#     res.append(value)\n",
    "# js.values()\n",
    "# json.loads(str(js.values()))\n",
    "# print(list(js.values()))\n",
    "# df[\"test\"] = 5\n",
    "df['categories'][0] = \"1,2\"\n",
    "(df['categories'][0]).split(\",\")"
   ]
  },
  {
   "cell_type": "code",
   "execution_count": 46,
   "id": "super-collection",
   "metadata": {},
   "outputs": [
    {
     "name": "stdout",
     "output_type": "stream",
     "text": [
      "                                                 name       region  \\\n",
      "0                                            La Liane  Saint-Louis   \n",
      "1                   Association Jeunesse Espoir (AJS)  Saint-Louis   \n",
      "2                           Connexion Sans Frontieres        Dakar   \n",
      "3       African Network for Horticultural Development        Dakar   \n",
      "4   African Network for Integrated Development (ANID)        Dakar   \n",
      "..                                                ...          ...   \n",
      "60                               ENDA Jeunesse Action        Dakar   \n",
      "61                                       World Vision        Dakar   \n",
      "62                                Samu Social Sénégal          NaN   \n",
      "63  RAO (Réseau Afrique de l’Ouest pour la protect...          NaN   \n",
      "64  COSAED (Collectif des Structures d'Appui aux E...          NaN   \n",
      "\n",
      "    contactable  id  \n",
      "0          True   0  \n",
      "1          True   1  \n",
      "2          True   2  \n",
      "3         False   3  \n",
      "4          True   4  \n",
      "..          ...  ..  \n",
      "60         True  61  \n",
      "61         True  62  \n",
      "62         True  63  \n",
      "63        False  64  \n",
      "64        False  65  \n",
      "\n",
      "[65 rows x 4 columns]\n"
     ]
    }
   ],
   "source": [
    "df = pd.read_csv('organisations dataset.csv')\n",
    "\n",
    "pd.set_option('display.max_rows', 10)\n",
    "print(df)"
   ]
  },
  {
   "cell_type": "code",
   "execution_count": 33,
   "id": "strong-offense",
   "metadata": {},
   "outputs": [
    {
     "data": {
      "text/html": [
       "<div>\n",
       "<style scoped>\n",
       "    .dataframe tbody tr th:only-of-type {\n",
       "        vertical-align: middle;\n",
       "    }\n",
       "\n",
       "    .dataframe tbody tr th {\n",
       "        vertical-align: top;\n",
       "    }\n",
       "\n",
       "    .dataframe thead th {\n",
       "        text-align: right;\n",
       "    }\n",
       "</style>\n",
       "<table border=\"1\" class=\"dataframe\">\n",
       "  <thead>\n",
       "    <tr style=\"text-align: right;\">\n",
       "      <th></th>\n",
       "      <th>index</th>\n",
       "      <th>name</th>\n",
       "      <th>region</th>\n",
       "      <th>contactable</th>\n",
       "      <th>id</th>\n",
       "    </tr>\n",
       "  </thead>\n",
       "  <tbody>\n",
       "    <tr>\n",
       "      <th>0</th>\n",
       "      <td>0</td>\n",
       "      <td>La Liane</td>\n",
       "      <td>Saint-Louis</td>\n",
       "      <td>True</td>\n",
       "      <td>0.0</td>\n",
       "    </tr>\n",
       "    <tr>\n",
       "      <th>1</th>\n",
       "      <td>1</td>\n",
       "      <td>Association Jeunesse Espoir (AJS)</td>\n",
       "      <td>Saint-Louis</td>\n",
       "      <td>True</td>\n",
       "      <td>1.0</td>\n",
       "    </tr>\n",
       "    <tr>\n",
       "      <th>2</th>\n",
       "      <td>2</td>\n",
       "      <td>Connexion Sans Frontieres</td>\n",
       "      <td>Dakar</td>\n",
       "      <td>True</td>\n",
       "      <td>2.0</td>\n",
       "    </tr>\n",
       "    <tr>\n",
       "      <th>3</th>\n",
       "      <td>3</td>\n",
       "      <td>African Network for Horticultural Development</td>\n",
       "      <td>Dakar</td>\n",
       "      <td>False</td>\n",
       "      <td>3.0</td>\n",
       "    </tr>\n",
       "    <tr>\n",
       "      <th>4</th>\n",
       "      <td>4</td>\n",
       "      <td>African Network for Integrated Development (ANID)</td>\n",
       "      <td>Dakar</td>\n",
       "      <td>True</td>\n",
       "      <td>4.0</td>\n",
       "    </tr>\n",
       "    <tr>\n",
       "      <th>...</th>\n",
       "      <td>...</td>\n",
       "      <td>...</td>\n",
       "      <td>...</td>\n",
       "      <td>...</td>\n",
       "      <td>...</td>\n",
       "    </tr>\n",
       "    <tr>\n",
       "      <th>62</th>\n",
       "      <td>62</td>\n",
       "      <td>World Vision</td>\n",
       "      <td>Dakar</td>\n",
       "      <td>True</td>\n",
       "      <td>62.0</td>\n",
       "    </tr>\n",
       "    <tr>\n",
       "      <th>63</th>\n",
       "      <td>63</td>\n",
       "      <td>Samu Social Sénégal</td>\n",
       "      <td>NaN</td>\n",
       "      <td>True</td>\n",
       "      <td>63.0</td>\n",
       "    </tr>\n",
       "    <tr>\n",
       "      <th>64</th>\n",
       "      <td>64</td>\n",
       "      <td>RAO (Réseau Afrique de l’Ouest pour la protect...</td>\n",
       "      <td>NaN</td>\n",
       "      <td>False</td>\n",
       "      <td>64.0</td>\n",
       "    </tr>\n",
       "    <tr>\n",
       "      <th>65</th>\n",
       "      <td>65</td>\n",
       "      <td>COSAED (Collectif des Structures d'Appui aux E...</td>\n",
       "      <td>NaN</td>\n",
       "      <td>False</td>\n",
       "      <td>65.0</td>\n",
       "    </tr>\n",
       "    <tr>\n",
       "      <th>66</th>\n",
       "      <td>0</td>\n",
       "      <td>new org</td>\n",
       "      <td>Dakar</td>\n",
       "      <td>True</td>\n",
       "      <td>NaN</td>\n",
       "    </tr>\n",
       "  </tbody>\n",
       "</table>\n",
       "<p>67 rows × 5 columns</p>\n",
       "</div>"
      ],
      "text/plain": [
       "    index                                               name       region  \\\n",
       "0       0                                           La Liane  Saint-Louis   \n",
       "1       1                  Association Jeunesse Espoir (AJS)  Saint-Louis   \n",
       "2       2                          Connexion Sans Frontieres        Dakar   \n",
       "3       3      African Network for Horticultural Development        Dakar   \n",
       "4       4  African Network for Integrated Development (ANID)        Dakar   \n",
       "..    ...                                                ...          ...   \n",
       "62     62                                       World Vision        Dakar   \n",
       "63     63                                Samu Social Sénégal          NaN   \n",
       "64     64  RAO (Réseau Afrique de l’Ouest pour la protect...          NaN   \n",
       "65     65  COSAED (Collectif des Structures d'Appui aux E...          NaN   \n",
       "66      0                                            new org        Dakar   \n",
       "\n",
       "   contactable    id  \n",
       "0         True   0.0  \n",
       "1         True   1.0  \n",
       "2         True   2.0  \n",
       "3        False   3.0  \n",
       "4         True   4.0  \n",
       "..         ...   ...  \n",
       "62        True  62.0  \n",
       "63        True  63.0  \n",
       "64       False  64.0  \n",
       "65       False  65.0  \n",
       "66        True   NaN  \n",
       "\n",
       "[67 rows x 5 columns]"
      ]
     },
     "execution_count": 33,
     "metadata": {},
     "output_type": "execute_result"
    }
   ],
   "source": [
    "df2 = pd.DataFrame([[\"Dakar\",\"True\",\"new org\"]], columns=['region','contactable','name'])\n",
    "df = pd.concat([df,df2]).reset_index()\n",
    "df"
   ]
  },
  {
   "cell_type": "code",
   "execution_count": 40,
   "id": "presidential-peeing",
   "metadata": {},
   "outputs": [
    {
     "data": {
      "text/plain": [
       "{'2': {'index': 2,\n",
       "  'name': 'Connexion Sans Frontieres',\n",
       "  'region': 'Dakar',\n",
       "  'contactable': True,\n",
       "  'id': 2.0}}"
      ]
     },
     "execution_count": 40,
     "metadata": {},
     "output_type": "execute_result"
    }
   ],
   "source": [
    "df3 = df.loc[df['index'] == 2]\n",
    "js = df3.to_json(orient = 'index')\n",
    "json.loads(js)"
   ]
  },
  {
   "cell_type": "code",
   "execution_count": 12,
   "id": "spanish-substance",
   "metadata": {},
   "outputs": [
    {
     "data": {
      "text/html": [
       "<div>\n",
       "<style scoped>\n",
       "    .dataframe tbody tr th:only-of-type {\n",
       "        vertical-align: middle;\n",
       "    }\n",
       "\n",
       "    .dataframe tbody tr th {\n",
       "        vertical-align: top;\n",
       "    }\n",
       "\n",
       "    .dataframe thead th {\n",
       "        text-align: right;\n",
       "    }\n",
       "</style>\n",
       "<table border=\"1\" class=\"dataframe\">\n",
       "  <thead>\n",
       "    <tr style=\"text-align: right;\">\n",
       "      <th></th>\n",
       "      <th>filename</th>\n",
       "      <th>m</th>\n",
       "      <th>n</th>\n",
       "    </tr>\n",
       "  </thead>\n",
       "  <tbody>\n",
       "    <tr>\n",
       "      <th>0</th>\n",
       "      <td>test0.dat</td>\n",
       "      <td>17</td>\n",
       "      <td>None</td>\n",
       "    </tr>\n",
       "    <tr>\n",
       "      <th>1</th>\n",
       "      <td>test2.dat</td>\n",
       "      <td>13</td>\n",
       "      <td>None</td>\n",
       "    </tr>\n",
       "  </tbody>\n",
       "</table>\n",
       "</div>"
      ],
      "text/plain": [
       "    filename   m     n\n",
       "0  test0.dat  17  None\n",
       "1  test2.dat  13  None"
      ]
     },
     "execution_count": 12,
     "metadata": {},
     "output_type": "execute_result"
    }
   ],
   "source": [
    "import pandas as pd\n",
    "\n",
    "df = pd.DataFrame({'filename' :  ['test0.dat', 'test2.dat'], \n",
    "                                  'm': [12, 13], 'n' : [None, None]})\n",
    "\n",
    "data = {'filename' :  'test2.dat', 'n':16}\n",
    "\n",
    "# def update_vals(row, data=data):\n",
    "#     if row.filename == data['filename']:\n",
    "#         row.n = data['n']\n",
    "#     return row\n",
    "\n",
    "# df.apply(update_vals, axis=1)\n",
    "df.loc[df.filename == 'test0.dat','m'] = 17\n",
    "df"
   ]
  },
  {
   "cell_type": "code",
   "execution_count": 6,
   "id": "inappropriate-counter",
   "metadata": {},
   "outputs": [
    {
     "data": {
      "text/html": [
       "<div>\n",
       "<style scoped>\n",
       "    .dataframe tbody tr th:only-of-type {\n",
       "        vertical-align: middle;\n",
       "    }\n",
       "\n",
       "    .dataframe tbody tr th {\n",
       "        vertical-align: top;\n",
       "    }\n",
       "\n",
       "    .dataframe thead th {\n",
       "        text-align: right;\n",
       "    }\n",
       "</style>\n",
       "<table border=\"1\" class=\"dataframe\">\n",
       "  <thead>\n",
       "    <tr style=\"text-align: right;\">\n",
       "      <th></th>\n",
       "      <th>filename</th>\n",
       "      <th>m</th>\n",
       "      <th>n</th>\n",
       "    </tr>\n",
       "  </thead>\n",
       "  <tbody>\n",
       "    <tr>\n",
       "      <th>1</th>\n",
       "      <td>test2.dat</td>\n",
       "      <td>13</td>\n",
       "      <td>None</td>\n",
       "    </tr>\n",
       "  </tbody>\n",
       "</table>\n",
       "</div>"
      ],
      "text/plain": [
       "    filename   m     n\n",
       "1  test2.dat  13  None"
      ]
     },
     "execution_count": 6,
     "metadata": {},
     "output_type": "execute_result"
    }
   ],
   "source": [
    "#delete\n",
    "df = df[df.m != 12]\n",
    "df"
   ]
  },
  {
   "cell_type": "code",
   "execution_count": null,
   "id": "classified-venezuela",
   "metadata": {},
   "outputs": [],
   "source": []
  }
 ],
 "metadata": {
  "kernelspec": {
   "display_name": "Python 3",
   "language": "python",
   "name": "python3"
  },
  "language_info": {
   "codemirror_mode": {
    "name": "ipython",
    "version": 3
   },
   "file_extension": ".py",
   "mimetype": "text/x-python",
   "name": "python",
   "nbconvert_exporter": "python",
   "pygments_lexer": "ipython3",
   "version": "3.8.10"
  }
 },
 "nbformat": 4,
 "nbformat_minor": 5
}
